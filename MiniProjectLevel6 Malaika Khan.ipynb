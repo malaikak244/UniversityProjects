{
 "cells": [
  {
   "cell_type": "markdown",
   "metadata": {
    "tags": []
   },
   "source": [
    "# Miniproject\n",
    "# Level  6\n",
    "## Malaika K\n",
    "\n",
    "## 27 October 2023\n",
    "## Version 1\n",
    "\n"
   ]
  },
  {
   "cell_type": "markdown",
   "metadata": {},
   "source": [
    "## Summary of the Question \n",
    "\n",
    "- Short answer quiz\n",
    "- Level 6:\n",
    "To create a quiz program with more than one player. The program asks for the number of players and based off of this, the program should ask the first question to each player before moving onto the next question. The scores for each player and the points available for the next question (for each player) should be stored in arrays. The program should also use a record to define field definitions for the question and the answer to the question."
   ]
  },
  {
   "cell_type": "markdown",
   "metadata": {},
   "source": [
    "## Justification that the program passes this level\n",
    "\n",
    "- I wrote this program myself\n",
    "- I have used variables, assignments and expressions\n",
    "- Includes arrays accessed with a loop\n",
    "- Includes loops within loops\n",
    "- Includes methods with array arguments\n",
    "- Includes records\n",
    "- Decomposed into small methods\n",
    "- I have indented my code\n",
    "- I have included comments\n",
    "\n",
    "#### Changes from miniproject level 3\n",
    "There is one main change. the quiz() method no longer exists as it was not broken down well enough. The methods in this version are generally broken down a lot better into doing specific things. I have also introduced loops, arrays and records as they are criteria for level 4, 5 and 6."
   ]
  },
  {
   "cell_type": "markdown",
   "metadata": {},
   "source": [
    "## The literate program development\n"
   ]
  },
  {
   "cell_type": "markdown",
   "metadata": {},
   "source": [
    "### Method 1: Instructions\n",
    "\n",
    "#### What it does\n",
    "- Introduces the player to the rules of the game.\n",
    "\n",
    "#### Implementation (how it works)\n",
    "- Method simply prints several statements involving the rules."
   ]
  },
  {
   "cell_type": "code",
   "execution_count": 1,
   "metadata": {},
   "outputs": [],
   "source": [
    "//Outputs the instructions for the game\n",
    "public static void instructions()\n",
    "    {\n",
    "     System.out.println(\"Welcome, player(s).\");\n",
    "     System.out.println(\"In this quiz, you will answer 5 questions.\");\n",
    "     System.out.println(\"The first question is worth 1 point.\");\n",
    "     System.out.println(\"When you get an answer right, the points for the next question increases.\");\n",
    "     System.out.println(\"However, if you answer the next question incorrectly, the number of possible \");\n",
    "     System.out.println(\"points gained on the next question falls back down to 1 point.\");\n",
    "    }"
   ]
  },
  {
   "cell_type": "markdown",
   "metadata": {},
   "source": [
    "#### Testing"
   ]
  },
  {
   "cell_type": "code",
   "execution_count": 2,
   "metadata": {},
   "outputs": [
    {
     "name": "stdout",
     "output_type": "stream",
     "text": [
      "Welcome, player(s).\n",
      "In this quiz, you will answer 5 questions.\n",
      "The first question is worth 1 point.\n",
      "When you get an answer right, the points for the next question increases.\n",
      "However, if you answer the next question incorrectly, the number of possible \n",
      "points gained on the next question falls back down to 1 point.\n"
     ]
    }
   ],
   "source": [
    "instructions();"
   ]
  },
  {
   "cell_type": "markdown",
   "metadata": {},
   "source": [
    "### Method 2: correctOrIncorrect\n",
    "\n",
    "#### What it does\n",
    "- Outputs whether the entered answer is correct or incorrect\n",
    "\n",
    "#### Implementation (how it works)\n",
    "- Compares the value stored in currentAnswer (which holds the current correct answer) to the value in userAnswer\n",
    "- If they are equal, the program tells the user they are correct\n",
    "- Else, user is told they are incorrect\n",
    "\n",
    "#### Changes made from Miniproject 3:\n",
    "- This is a new method made to only output to the user whether the answer is correct or incorrect as I did not split the methods very well in mini 3\n",
    "  "
   ]
  },
  {
   "cell_type": "code",
   "execution_count": 3,
   "metadata": {},
   "outputs": [],
   "source": [
    "//Compares currentAnswer to userAnswer and tells the user if their answer is right or not\n",
    "public static void correctOrIncorrect(String userAnswer, String currentAnswer) {\n",
    "    if (userAnswer.equalsIgnoreCase(currentAnswer)) {\n",
    "        System.out.println(\"That's correct.\");\n",
    "    } else {\n",
    "        System.out.println(\"That's incorrect.\");\n",
    "    }\n",
    "}\n"
   ]
  },
  {
   "cell_type": "markdown",
   "metadata": {},
   "source": [
    "### Testing"
   ]
  },
  {
   "cell_type": "code",
   "execution_count": 4,
   "metadata": {},
   "outputs": [
    {
     "name": "stdout",
     "output_type": "stream",
     "text": [
      "That's correct.\n"
     ]
    }
   ],
   "source": [
    "correctOrIncorrect(\"cat\", \"cat\");"
   ]
  },
  {
   "cell_type": "markdown",
   "metadata": {},
   "source": [
    "### Method 3: markingMethod\n",
    "\n",
    "#### What it does\n",
    "- Adds awardedPoints to totalScore if answer is correct.\n",
    "- Also outputs the score and the next available number of points.\n",
    "\n",
    "#### Implementation (how it works)\n",
    "- pointsForNextQuestion and scores are arrays which are declared as the same length as the number of players\n",
    "- So player 1's score is saved in score[0], player 2's score is saved in score[1] and their respective points available for the next question is stored in pointsForNextQuestion\n",
    "- Compares the user input (userAnswer) to currentAnswer\n",
    "- If they are the same, the value held in pointsForNextQuestion[] is added to the current value in the scores[] array\n",
    "- 1 point is also added to the respective position in pointsForNextQuestion\n",
    "- Otherwise, the respective position in pointsForNextQuestion is set back to 1 if the answer is incorrect (as the player loses their streak)\n",
    "\n",
    "#### Changes made from Miniproject 3:\n",
    "- I have used arrays to store the scores/ points for each player due to the criteria of level 5\n",
    "- markingMethod also no longer outputs whether the answer is right or not as that is the job of the correctOrIncorrect method\n"
   ]
  },
  {
   "cell_type": "code",
   "execution_count": 6,
   "metadata": {
    "tags": []
   },
   "outputs": [],
   "source": [
    "//Compares the correct answer (currentAnswer) to userAnswer\n",
    "//Adjusts the score / points for next question as needed and stores these in arrays\n",
    "public static void markingMethod(int [] scores, int [] pointsForNextQuestion, String currentAnswer, String userAnswer, int playerIndex)\n",
    "    {\n",
    "\n",
    "    if (!userAnswer.equalsIgnoreCase(currentAnswer)) {\n",
    "        pointsForNextQuestion[playerIndex] = 1;\n",
    "    } else {\n",
    "        scores[playerIndex] += pointsForNextQuestion[playerIndex];\n",
    "        pointsForNextQuestion[playerIndex] += 1;\n",
    "         \n",
    "    }\n",
    "    System.out.println(\"Score = \" + scores[playerIndex]);   \n",
    "    System.out.println(\"Next points available = \" + pointsForNextQuestion[playerIndex]);\n",
    "\n",
    "    return;\n",
    "    \n",
    "    }"
   ]
  },
  {
   "cell_type": "markdown",
   "metadata": {},
   "source": [
    "### Testing"
   ]
  },
  {
   "cell_type": "code",
   "execution_count": 7,
   "metadata": {},
   "outputs": [
    {
     "name": "stdout",
     "output_type": "stream",
     "text": [
      "Score = 0\n",
      "Next points available = 1\n"
     ]
    }
   ],
   "source": [
    "int [] scores = new int[3];\n",
    "int [] pointsForNextQuestion = new int [3];\n",
    "markingMethod(scores, pointsForNextQuestion, \"moo\", \"moo\", 2);"
   ]
  },
  {
   "cell_type": "markdown",
   "metadata": {},
   "source": [
    "### Method 4: arrayCreationAndCallingMethods\n",
    "\n",
    "#### What it does\n",
    "- declares and initializes the scores and pointsForNextQuestion arrays\n",
    "- Asks for the number of players and stores it in the numPlayers variable which stays constant and is therefore a final variable\n",
    "\n",
    "\n",
    "#### Implementation (how it works)\n",
    "- Uses a for loop to assign a 1 to each of the positions in the pointsForNextQuestion array (because the points awarded for each correctly answered question is always at least 1)\n",
    "- Another for loop used to assign the questions and correct answers to variables from their field definitions\n",
    "- Inside this for loop, there is another for loop which asks the same question to each player. Once all of the players have been asked the same question, the inner for loop is closed and the next question/answer is assigned to q.question and q.correctAnswer (using the arrays which store the questions/answers)\n",
    "- Calls the other methods to ensure the scores are added correctly and the user is told if their answer is right or not\n",
    "- Goes back to outer for loop and assigns the new question/ answer to the currentQuestion and currentAnswer variables\n",
    "- At the end, the final score for each player is printed by calling the outputtingFinalScores method\n",
    "\n",
    "#### Changes from miniproject level 3\n",
    "- This is a new method, was not part of level 3"
   ]
  },
  {
   "cell_type": "code",
   "execution_count": 8,
   "metadata": {},
   "outputs": [],
   "source": [
    "//class with field definitions\n",
    "class questionInformation {\n",
    "    String question;\n",
    "    String correctAnswer;\n",
    "}\n",
    "\n",
    "\n"
   ]
  },
  {
   "cell_type": "code",
   "execution_count": 17,
   "metadata": {
    "tags": []
   },
   "outputs": [],
   "source": [
    "//Creates scores and pointsForNextQuestion arrays\n",
    "//Outputs the quiz questions and calls other methods\n",
    "public static void arrayCreationAndCallingMethods(questionInformation q, String [] arrayWithAnswers, String [] arrayWithQuestions)\n",
    "{\n",
    "    instructions();\n",
    "    \n",
    "    final int numPlayers = askingForNumberOfPlayers();\n",
    "    final int totalQuestions = arrayWithAnswers.length;\n",
    "\n",
    "    int [] scores = new int[numPlayers];\n",
    "    int [] pointsForNextQuestion = new int[numPlayers];\n",
    "\n",
    "    for (int i = 0; i < pointsForNextQuestion.length; i++)\n",
    "         {\n",
    "            pointsForNextQuestion[i] = 1;\n",
    "         }\n",
    "    \n",
    "    for (int j = 0; j < totalQuestions; j++) {\n",
    "        String currentQuestion = q.question;\n",
    "        String currentAnswer = q.correctAnswer;\n",
    "        for (int i = 0; i < numPlayers; i++)\n",
    "         {\n",
    "            String playerNumber = \"This question is for player \" + (i+1) + \": \";\n",
    "            Scanner scanner = new Scanner(System.in);\n",
    "            System.out.println(playerNumber + currentQuestion);\n",
    "            String userAnswer = scanner.nextLine();\n",
    "           \n",
    "            markingMethod(scores, pointsForNextQuestion, currentAnswer, userAnswer, i);\n",
    "            correctOrIncorrect(userAnswer, currentAnswer);\n",
    "        }\n",
    "        if (j < totalQuestions - 1) {\n",
    "            q.question = arrayWithQuestions[j+1];\n",
    "            q.correctAnswer = arrayWithAnswers[j+1];\n",
    "        }\n",
    "        \n",
    "        \n",
    "    }\n",
    "    outputtingFinalScores(numPlayers, scores);\n",
    "    return;\n",
    "    } "
   ]
  },
  {
   "cell_type": "markdown",
   "metadata": {},
   "source": [
    "### Testing"
   ]
  },
  {
   "cell_type": "code",
   "execution_count": null,
   "metadata": {},
   "outputs": [],
   "source": [
    "questionInformation q = new questionInformation();\n",
    "String [] arrayWithAnswers = {\"moo\", \"meow\", \"neigh\"};\n",
    "String [] arrayWithQuestions = {\"cow?\", \"cat?\", \"horse?\"};\n",
    "\n",
    "q.question = arrayWithQuestions[0];\n",
    "q.correctAnswer = arrayWithAnswers[0];\n",
    "\n",
    "arrayCreationAndCallingMethods(q, arrayWithAnswers, arrayWithQuestions);"
   ]
  },
  {
   "cell_type": "markdown",
   "metadata": {},
   "source": [
    "### Method 5: askingForNumberOfPlayers\n",
    "\n",
    "#### What it does\n",
    "- Asks for the number of players\n",
    "\n",
    "#### Implementation (how it works)\n",
    "- Uses Scanner and returns the value\n",
    "\n",
    "#### Changes from miniproject level 3\n",
    "- This is a new method, was not part of level 3"
   ]
  },
  {
   "cell_type": "code",
   "execution_count": 15,
   "metadata": {},
   "outputs": [],
   "source": [
    "//Asks for the number of players\n",
    "public static int askingForNumberOfPlayers()\n",
    "    {\n",
    "        final int numberOfPlayers;\n",
    "        final String players;\n",
    "\n",
    "        Scanner scanner = new Scanner(System.in);\n",
    "        System.out.println(\"How many players? \");\n",
    "        players = scanner.nextLine();\n",
    "        numberOfPlayers = Integer.parseInt(players); \n",
    "\n",
    "        return numberOfPlayers;\n",
    "    }"
   ]
  },
  {
   "cell_type": "markdown",
   "metadata": {},
   "source": [
    "### Testing "
   ]
  },
  {
   "cell_type": "code",
   "execution_count": 16,
   "metadata": {},
   "outputs": [
    {
     "name": "stdout",
     "output_type": "stream",
     "text": [
      "How many players? \n"
     ]
    },
    {
     "name": "stdin",
     "output_type": "stream",
     "text": [
      " 2\n"
     ]
    },
    {
     "data": {
      "text/plain": [
       "2"
      ]
     },
     "execution_count": 16,
     "metadata": {},
     "output_type": "execute_result"
    }
   ],
   "source": [
    "askingForNumberOfPlayers();"
   ]
  },
  {
   "cell_type": "markdown",
   "metadata": {},
   "source": [
    "### Method 6: outputtingFinalScores\n",
    "\n",
    "#### What it does\n",
    "- Outputs the final scores for each player\n",
    "\n",
    "#### Implementation (how it works)\n",
    "- Uses a for loop to iterate through each of the positions in the score array and prints the values in each position\n",
    "\n",
    "#### Changes from miniproject level 3\n",
    "- This is a new method, was not part of level 3"
   ]
  },
  {
   "cell_type": "code",
   "execution_count": 11,
   "metadata": {},
   "outputs": [],
   "source": [
    "//Outputs the final score for each player\n",
    "public static void outputtingFinalScores(int numPlayers, int [] scores)\n",
    "    {\n",
    "        for (int i = 0; i < numPlayers; i++) {\n",
    "            System.out.println(\"Player \" + (i + 1) + \" final score: \" + scores[i]);\n",
    "        }\n",
    "    }"
   ]
  },
  {
   "cell_type": "markdown",
   "metadata": {},
   "source": [
    "### Testing"
   ]
  },
  {
   "cell_type": "code",
   "execution_count": 12,
   "metadata": {},
   "outputs": [
    {
     "name": "stdout",
     "output_type": "stream",
     "text": [
      "Player 1 final score: 3\n",
      "Player 2 final score: 5\n",
      "Player 3 final score: 2\n"
     ]
    }
   ],
   "source": [
    "final int numPlayers = 3;\n",
    "int [] scores = new int[numPlayers];\n",
    "\n",
    "scores[0] = 3;\n",
    "scores[1] = 5;\n",
    "scores[2] = 2;\n",
    "outputtingFinalScores(numPlayers, scores);"
   ]
  },
  {
   "cell_type": "markdown",
   "metadata": {},
   "source": [
    "### Method 7: assigningRecordsToArray\n",
    "\n",
    "#### What it does\n",
    "- Holds the arrays with the questions/ answers\n",
    "- Deals with declaring/ initializing the variable q of type questionInformation\n",
    "\n",
    "#### Implementation (how it works)\n",
    "- variable of type questionInformation is created, called q\n",
    "- Stores the first string in each array to the question/ correctAnswer definitions of the variable q\n",
    "- Calls the arrayCreationAndCallingMethods method\n",
    "\n",
    "#### Changes from miniproject level 3\n",
    "- This is a new method which was not part of the level 3 version of the project"
   ]
  },
  {
   "cell_type": "code",
   "execution_count": 19,
   "metadata": {},
   "outputs": [],
   "source": [
    "//Declares and initializes variable q of type questionInformation\n",
    "//Assigns position 0 of question/ answer arrays to the field definitions of questionInformation\n",
    "public static void assigningArrayValueToVariable()\n",
    "{\n",
    "    String [] arrayWithQuestions = {\n",
    "        \"What's the name of an animal that goes moo? \",\n",
    "        \"What's the name of an animal that goes neigh? \",\n",
    "        \"What's the name of an animal that goes meow? \",\n",
    "        \"What's the name of an animal that goes woof? \",\n",
    "        \"What's the name of an animal that goes heehawheehaw? \"\n",
    "    };\n",
    "\n",
    "    String [] arrayWithAnswers = {\"cow\",\"horse\",\"cat\",\"dog\",\"donkey\"};\n",
    "    questionInformation q = new questionInformation();\n",
    "\n",
    "    q.question = arrayWithQuestions[0];\n",
    "    q.correctAnswer = arrayWithAnswers[0];\n",
    "  \n",
    "\n",
    "    arrayCreationAndCallingMethods(q, arrayWithAnswers, arrayWithQuestions);\n",
    "    return;\n",
    "}\n"
   ]
  },
  {
   "cell_type": "markdown",
   "metadata": {},
   "source": [
    "### Running the program\n",
    "Run the following call to simulate running the complete program."
   ]
  },
  {
   "cell_type": "code",
   "execution_count": null,
   "metadata": {
    "scrolled": true,
    "tags": []
   },
   "outputs": [],
   "source": [
    "assigningArrayValueToVariable();"
   ]
  },
  {
   "cell_type": "markdown",
   "metadata": {},
   "source": [
    "## The complete program\n",
    "This version will only compile here. To run it copy it into a file called initials.java on your local computer and compile and run it there."
   ]
  },
  {
   "cell_type": "code",
   "execution_count": 11,
   "metadata": {},
   "outputs": [],
   "source": [
    "// Malaika G Khan\n",
    "// 3 November 2023\n",
    "// VERSION 1\n",
    "\n",
    "import java.util.Scanner;\n",
    "\n",
    "\n",
    "//class with field definitions\n",
    "class questionInformation\n",
    "{\n",
    "    String question;\n",
    "    String correctAnswer;\n",
    "}\n",
    "\n",
    "\n",
    "\n",
    "class quizGame\n",
    "{\n",
    "    public static void main (String [] a)\n",
    "    {\n",
    "        assigningArrayValueToVariable();\n",
    "        return;\n",
    "    } \n",
    "\n",
    "\n",
    "    \n",
    "    //Outputs the instructions for the game\n",
    "    public static void instructions()\n",
    "    {\n",
    "        System.out.println(\"Welcome, player(s).\");\n",
    "        System.out.println(\"In this quiz, you will answer 5 questions.\");\n",
    "        System.out.println(\"The first question is worth 1 point.\");\n",
    "        System.out.println(\"When you get an answer right, the points for the next question increases.\");\n",
    "        System.out.println(\"However, if you answer the next question incorrectly, the number of possible \");\n",
    "        System.out.println(\"points gained on the next question falls back down to 1 point.\");\n",
    "    }\n",
    "\n",
    "\n",
    "    \n",
    "    //Compares currentAnswer to userAnswer and tells the user if their answer is right or not\n",
    "    public static void correctOrIncorrect(String userAnswer, String currentAnswer) \n",
    "    {\n",
    "        if (userAnswer.equalsIgnoreCase(currentAnswer)) {\n",
    "            System.out.println(\"That's correct.\");\n",
    "        } else {\n",
    "            System.out.println(\"That's incorrect.\");\n",
    "        }\n",
    "    }\n",
    "\n",
    "\n",
    "    \n",
    "    //Compares the correct answer (currentAnswer) to userAnswer\n",
    "    //Adjusts the score / points for next question as needed and stores these in arrays\n",
    "    public static void markingMethod(int [] scores, int [] pointsForNextQuestion, String currentAnswer, String userAnswer, int playerIndex)\n",
    "    {\n",
    "\n",
    "        if (!userAnswer.equalsIgnoreCase(currentAnswer)) {\n",
    "            pointsForNextQuestion[playerIndex] = 1;\n",
    "        } else {\n",
    "            scores[playerIndex] += pointsForNextQuestion[playerIndex];\n",
    "            pointsForNextQuestion[playerIndex] += 1;\n",
    "         \n",
    "        }\n",
    "        System.out.println(\"Score = \" + scores[playerIndex]);   \n",
    "        System.out.println(\"Next points available = \" + pointsForNextQuestion[playerIndex]);\n",
    "\n",
    "        return;\n",
    "    \n",
    "    }\n",
    "\n",
    "\n",
    "    \n",
    "    //Creates scores and pointsForNextQuestion arrays\n",
    "    //Outputs the quiz questions and calls other methods\n",
    "    public static void arrayCreationAndCallingMethods(questionInformation q, String [] arrayWithAnswers, String [] arrayWithQuestions)\n",
    "    {\n",
    "        instructions();\n",
    "    \n",
    "        final int numPlayers = askingForNumberOfPlayers();\n",
    "        final int totalQuestions = arrayWithAnswers.length;\n",
    "\n",
    "        int [] scores = new int[numPlayers];\n",
    "        int [] pointsForNextQuestion = new int[numPlayers];\n",
    "\n",
    "        for (int i = 0; i < pointsForNextQuestion.length; i++)\n",
    "             {\n",
    "                pointsForNextQuestion[i] = 1;\n",
    "             }\n",
    "    \n",
    "        for (int j = 0; j < totalQuestions; j++) \n",
    "        {\n",
    "            String currentQuestion = q.question;\n",
    "            String currentAnswer = q.correctAnswer;\n",
    "            for (int i = 0; i < numPlayers; i++)\n",
    "             {\n",
    "                String playerNumber = \"This question is for player \" + (i+1) + \": \";\n",
    "                Scanner scanner = new Scanner(System.in);\n",
    "                System.out.println(playerNumber + currentQuestion);\n",
    "                String userAnswer = scanner.nextLine();\n",
    "           \n",
    "                markingMethod(scores, pointsForNextQuestion, currentAnswer, userAnswer, i);\n",
    "                correctOrIncorrect(userAnswer, currentAnswer);\n",
    "            }\n",
    "            if (j < totalQuestions - 1) {\n",
    "                q.question = arrayWithQuestions[j+1];\n",
    "                q.correctAnswer = arrayWithAnswers[j+1];\n",
    "            }\n",
    "        \n",
    "        \n",
    "        }\n",
    "        outputtingFinalScores(numPlayers, scores);\n",
    "        return;\n",
    "    } \n",
    "\n",
    "    \n",
    "    //Asks for the number of players\n",
    "    public static int askingForNumberOfPlayers()\n",
    "    {\n",
    "        final int numberOfPlayers;\n",
    "        final String players;\n",
    "\n",
    "        Scanner scanner = new Scanner(System.in);\n",
    "        System.out.println(\"How many players? \");\n",
    "        players = scanner.nextLine();\n",
    "        numberOfPlayers = Integer.parseInt(players); \n",
    "\n",
    "        return numberOfPlayers;\n",
    "    }\n",
    "\n",
    "\n",
    "    \n",
    "    //Outputs the final score for each player\n",
    "    public static void outputtingFinalScores(int numPlayers, int [] scores)\n",
    "    {\n",
    "        for (int i = 0; i < numPlayers; i++)\n",
    "        {\n",
    "            System.out.println(\"Player \" + (i + 1) + \" final score: \" + scores[i]);\n",
    "        }\n",
    "    }\n",
    "\n",
    "\n",
    "    //Declares and initializes variable q of type questionInformation\n",
    "    //Assigns position 0 of question/ answer arrays to the field definitions of questionInformation\n",
    "    public static void assigningArrayValueToVariable()\n",
    "    {\n",
    "        String [] arrayWithQuestions = {\n",
    "            \"What's the name of an animal that goes moo? \",\n",
    "            \"What's the name of an animal that goes neigh? \",\n",
    "            \"What's the name of an animal that goes meow? \",\n",
    "            \"What's the name of an animal that goes woof? \",\n",
    "            \"What's the name of an animal that goes heehawheehaw? \"\n",
    "        };\n",
    "\n",
    "        String [] arrayWithAnswers = {\"cow\",\"horse\",\"cat\",\"dog\",\"donkey\"};\n",
    "        questionInformation q = new questionInformation();\n",
    "\n",
    "        q.question = arrayWithQuestions[0];\n",
    "        q.correctAnswer = arrayWithAnswers[0];\n",
    "  \n",
    "\n",
    "        arrayCreationAndCallingMethods(q, arrayWithAnswers, arrayWithQuestions);\n",
    "        return;\n",
    "    }\n",
    "    \n",
    "   \n",
    "} \n"
   ]
  },
  {
   "cell_type": "code",
   "execution_count": null,
   "metadata": {},
   "outputs": [
    {
     "name": "stdout",
     "output_type": "stream",
     "text": [
      "Welcome, player(s).\n",
      "In this quiz, you will answer 5 questions.\n",
      "The first question is worth 1 point.\n",
      "When you get an answer right, the points for the next question increases.\n",
      "However, if you answer the next question incorrectly, the number of possible \n",
      "points gained on the next question falls back down to 1 point.\n",
      "How many players? \n"
     ]
    }
   ],
   "source": [
    "quizGame.main(null);"
   ]
  },
  {
   "cell_type": "markdown",
   "metadata": {},
   "source": [
    "**END OF LITERATE DOCUMENT**"
   ]
  }
 ],
 "metadata": {
  "kernelspec": {
   "display_name": "Java",
   "language": "java",
   "name": "java"
  },
  "language_info": {
   "codemirror_mode": "java",
   "file_extension": ".jshell",
   "mimetype": "text/x-java-source",
   "name": "Java",
   "pygments_lexer": "java",
   "version": "11.0.8+10-LTS"
  }
 },
 "nbformat": 4,
 "nbformat_minor": 4
}
