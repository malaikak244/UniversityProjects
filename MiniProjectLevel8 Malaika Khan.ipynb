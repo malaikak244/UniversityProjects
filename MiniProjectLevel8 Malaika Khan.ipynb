{
 "cells": [
  {
   "cell_type": "markdown",
   "metadata": {
    "tags": []
   },
   "source": [
    "# Miniproject\n",
    "# Level  8\n",
    "\n",
    "## 21 November 2023\n",
    "## Version 1\n",
    "\n"
   ]
  },
  {
   "cell_type": "markdown",
   "metadata": {},
   "source": [
    "## Summary of the Question \n",
    "\n",
    "- Short answer quiz\n",
    "- Level 7:\n",
    "To create a quiz program with more than one player. The program should ask the user for the number of questions they want to make. Then the user is prompted to input the questions along with their correct answers. These are stored in a separate file using file I/O methods. The program asks for the number of players and based off of this, the program should ask the first question to each player before moving onto the next question. The scores for each player and the points available for the next question (for each player) should be stored in arrays. The program should also use a record to define field definitions for the question and the answer to the question. The extra questions made by the user are output after the \"default\" questions. Additionally, only accessor methods should be used to access the fields of the ADT."
   ]
  },
  {
   "cell_type": "markdown",
   "metadata": {},
   "source": [
    "## Justification that the program passes this level\n",
    "\n",
    "- I wrote this program myself\n",
    "- I have used variables, assignments and expressions\n",
    "- Includes arrays accessed with a loop\n",
    "- Includes loops within loops\n",
    "- Includes methods with array arguments\n",
    "- Includes records\n",
    "- Decomposed into small methods\n",
    "- Uses both file input and file output\n",
    "- Uses ADT's and accessor methods\n",
    "- I have indented my code\n",
    "- I have included comments\n",
    "\n",
    "#### Changes from miniproject level 7\n",
    "There is one main change. I have introduced accessor methods and a create method which initialises the fields of the variable of type questionInformation."
   ]
  },
  {
   "cell_type": "markdown",
   "metadata": {},
   "source": [
    "## The literate program development\n"
   ]
  },
  {
   "cell_type": "markdown",
   "metadata": {},
   "source": [
    "### Method 1: Instructions\n",
    "\n",
    "#### What it does\n",
    "- Introduces the player to the rules of the game.\n",
    "\n",
    "#### Implementation (how it works)\n",
    "- Method simply prints several statements involving the rules."
   ]
  },
  {
   "cell_type": "code",
   "execution_count": 1,
   "metadata": {},
   "outputs": [],
   "source": [
    "//Outputs the instructions for the game\n",
    "public static void instructions()\n",
    "{\n",
    "    System.out.println(\"Welcome, player(s).\");\n",
    "    System.out.println(\"In this quiz, you will answer 5 questions.\");\n",
    "    System.out.println(\"The first question is worth 1 point.\");\n",
    "    System.out.println(\"When you get an answer right, the points for the next question increases.\");\n",
    "    System.out.println(\"However, if you answer the next question incorrectly, the number of possible \");\n",
    "    System.out.println(\"points gained on the next question falls back down to 1 point.\");\n",
    "    return;\n",
    "}"
   ]
  },
  {
   "cell_type": "markdown",
   "metadata": {},
   "source": [
    "#### Testing"
   ]
  },
  {
   "cell_type": "code",
   "execution_count": 2,
   "metadata": {},
   "outputs": [
    {
     "name": "stdout",
     "output_type": "stream",
     "text": [
      "Welcome, player(s).\n",
      "In this quiz, you will answer 5 questions.\n",
      "The first question is worth 1 point.\n",
      "When you get an answer right, the points for the next question increases.\n",
      "However, if you answer the next question incorrectly, the number of possible \n",
      "points gained on the next question falls back down to 1 point.\n"
     ]
    }
   ],
   "source": [
    "instructions();"
   ]
  },
  {
   "cell_type": "markdown",
   "metadata": {},
   "source": [
    "### Method 2: askQuestion\n",
    "\n",
    "#### What it does\n",
    "- General method for asking quiz questions\n",
    "\n",
    "#### Implementation (how it works)\n",
    "- Uses scanner \n"
   ]
  },
  {
   "cell_type": "code",
   "execution_count": 3,
   "metadata": {},
   "outputs": [],
   "source": [
    "//general method for asking quiz questions\n",
    "public static String askQuestion(String input)\n",
    "{\n",
    "    Scanner scanner = new Scanner(System.in);\n",
    "    System.out.println(input);\n",
    "    return scanner.nextLine();\n",
    "}\n"
   ]
  },
  {
   "cell_type": "markdown",
   "metadata": {},
   "source": [
    "### Testing"
   ]
  },
  {
   "cell_type": "code",
   "execution_count": null,
   "metadata": {},
   "outputs": [],
   "source": [
    "askQuestion(\"enter input\");"
   ]
  },
  {
   "cell_type": "markdown",
   "metadata": {},
   "source": [
    "### Method 3: correctOrIncorrect\n",
    "\n",
    "#### What it does\n",
    "- Outputs whether the entered answer is correct or incorrect\n",
    "\n",
    "#### Implementation (how it works)\n",
    "- Compares the value stored in curretnAnswer (which holds the current correct answer) to the value in userAnswer\n",
    "- If they are equal, the program tells the user they are correct\n",
    "- Else, user is told they are incorrect\n",
    "  "
   ]
  },
  {
   "cell_type": "code",
   "execution_count": 5,
   "metadata": {},
   "outputs": [],
   "source": [
    "//Compares currentAnswer to userAnswer and tells the user if their answer is right or not\n",
    "public static void correctOrIncorrect(String userAnswer, String currentAnswer) \n",
    "{\n",
    "    if (userAnswer.equalsIgnoreCase(currentAnswer)) {\n",
    "        System.out.println(\"That's correct.\");\n",
    "    } else {\n",
    "        System.out.println(\"That's incorrect.\");\n",
    "    }\n",
    "    return;\n",
    "}\n"
   ]
  },
  {
   "cell_type": "markdown",
   "metadata": {},
   "source": [
    "### Testing"
   ]
  },
  {
   "cell_type": "code",
   "execution_count": 6,
   "metadata": {},
   "outputs": [
    {
     "name": "stdout",
     "output_type": "stream",
     "text": [
      "That's correct.\n",
      "That's incorrect.\n"
     ]
    }
   ],
   "source": [
    "correctOrIncorrect(\"moo\", \"moo\");\n",
    "correctOrIncorrect(\"meow\", \"moo\");"
   ]
  },
  {
   "cell_type": "markdown",
   "metadata": {},
   "source": [
    "### Method 4: markingMethod\n",
    "\n",
    "#### What it does\n",
    "- Outputs \"That's correct\" if answer is correct and \"That's incorrect\" if incorrect\n",
    "- Adds awardedPoints to totalScore if answer is correct.\n",
    "\n",
    "#### Implementation (how it works)\n",
    "- pointsForNextQuestion and scores are arrays which are declared as the same length as the number of players\n",
    "- So player 1's score is saved in score[0], player 2's score is saved in score[1] and their respective points available for the next question is stored in pointsForNextQuestion\n",
    "- Compares the user input (userAnswer) to currentAnswer\n",
    "- If they are the same, the value held in pointsForNextQuestion[] is added to the current value in the scores[] array\n",
    "- 1 point is also added to the respective position in pointsForNextQuestion\n",
    "- Otherwise, the respective position in pointsForNextQuestion is set back to 1 if the answer is incorrect (as the player essentially loses their streak)\n"
   ]
  },
  {
   "cell_type": "code",
   "execution_count": 7,
   "metadata": {
    "tags": []
   },
   "outputs": [],
   "source": [
    "//Compares the correct answer (currentAnswer) to userAnswer\n",
    "//Adjusts the score / points for next question as needed and stores these in arrays\n",
    "public static void markingMethod(int [] scores, int [] pointsForNextQuestion, String currentAnswer, String userAnswer, int playerIndex)\n",
    "{\n",
    "    \n",
    "    if (!userAnswer.equalsIgnoreCase(currentAnswer)) {\n",
    "        pointsForNextQuestion[playerIndex] = 1;\n",
    "    } else {\n",
    "        scores[playerIndex] += pointsForNextQuestion[playerIndex];\n",
    "        pointsForNextQuestion[playerIndex] += 1;\n",
    "    }\n",
    "    \n",
    "    System.out.println(\"Score = \" + scores[playerIndex]);   \n",
    "    System.out.println(\"Next points available = \" + pointsForNextQuestion[playerIndex]);\n",
    "\n",
    "    return;\n",
    "    \n",
    "}"
   ]
  },
  {
   "cell_type": "markdown",
   "metadata": {},
   "source": [
    "### Testing"
   ]
  },
  {
   "cell_type": "code",
   "execution_count": 8,
   "metadata": {},
   "outputs": [
    {
     "name": "stdout",
     "output_type": "stream",
     "text": [
      "Score = 0\n",
      "Next points available = 1\n"
     ]
    }
   ],
   "source": [
    "int [] scores = new int[3];\n",
    "int [] pointsForNextQuestion = new int [3];\n",
    "markingMethod(scores, pointsForNextQuestion, \"moo\", \"moo\", 2);"
   ]
  },
  {
   "cell_type": "markdown",
   "metadata": {},
   "source": [
    "### Method 5: createInformation\n",
    "\n",
    "#### What it does\n",
    "- method which creates the abstract data type and initialises its fields.\n",
    "\n",
    "#### Implementation (how it works)\n",
    "- q and a are parameters as they take on strings which are present in other methods.\n",
    "- variable called \"Information\" declared"
   ]
  },
  {
   "cell_type": "code",
   "execution_count": 9,
   "metadata": {},
   "outputs": [],
   "source": [
    "class questionInformation\n",
    "{\n",
    "    String question;\n",
    "    String correctAnswer;\n",
    "}"
   ]
  },
  {
   "cell_type": "code",
   "execution_count": 10,
   "metadata": {},
   "outputs": [],
   "source": [
    "public static questionInformation createInformation(String q, String a)\n",
    "{\n",
    "    questionInformation Information = new questionInformation();\n",
    "\n",
    "    Information.question = q;\n",
    "    Information.correctAnswer = a;\n",
    "\n",
    "    return Information;\n",
    "}"
   ]
  },
  {
   "cell_type": "markdown",
   "metadata": {},
   "source": [
    "### Testing"
   ]
  },
  {
   "cell_type": "code",
   "execution_count": 11,
   "metadata": {},
   "outputs": [
    {
     "data": {
      "text/plain": [
       "REPL.$JShell$23$questionInformation@4e2d68dd"
      ]
     },
     "execution_count": 11,
     "metadata": {},
     "output_type": "execute_result"
    }
   ],
   "source": [
    "String q = \"ejk\";\n",
    "String a = \"efkjerfjkcjk\";\n",
    "createInformation(q, a);"
   ]
  },
  {
   "cell_type": "markdown",
   "metadata": {},
   "source": [
    "### Method 6: outputtingDefaultQuestions\n",
    "\n",
    "#### What it does\n",
    "- Outputs default questions\n",
    "\n",
    "#### Implementation (how it works)\n",
    "- Uses arrays which stores the questions and answers and assigns them to a variable so that they can be used to compare against userAnswer\n",
    "- markingMethod and correctOrIncorrect are called"
   ]
  },
  {
   "cell_type": "code",
   "execution_count": 12,
   "metadata": {},
   "outputs": [],
   "source": [
    "//Method for outputting the default questions by creating an instance for each question.\n",
    "public static void outputtingDefaultQuestions(String [] arrayWithAnswers, String [] arrayWithQuestions, int numPlayers, int [] scores, int [] pointsForNextQuestion)\n",
    "{\n",
    "\n",
    "    for (int i = 0; i < pointsForNextQuestion.length; i++)\n",
    "    {\n",
    "        pointsForNextQuestion[i] = 1;\n",
    "    }\n",
    "\n",
    "    for (int j = 0; j < arrayWithQuestions.length; j++) \n",
    "    {\n",
    "        String q = arrayWithQuestions[j];\n",
    "        String currentAnswer = arrayWithAnswers[j];\n",
    "\n",
    "        questionInformation Information = createInformation(q, currentAnswer);\n",
    "\n",
    "        Information = changeQuestion(Information, q);\n",
    "        Information = changeCorrectAnswer(Information, currentAnswer);\n",
    "    \n",
    "        for (int i = 0; i < numPlayers; i++) \n",
    "        {\n",
    "            String playerNumber = \"This question is for player \" + (i + 1) + \": \";\n",
    "            String userAnswer = askQuestion(playerNumber + getQuestion(Information));\n",
    "\n",
    "            markingMethod(scores, pointsForNextQuestion, currentAnswer, userAnswer, i);\n",
    "            correctOrIncorrect(userAnswer, currentAnswer);\n",
    "        }\n",
    "    }\n",
    "    return;\n",
    "}\n"
   ]
  },
  {
   "cell_type": "markdown",
   "metadata": {},
   "source": [
    "### Method(s) 7: Getters and Setters\n",
    "\n",
    "#### What it does\n",
    "- Accesses fields of class questionInformation\n",
    "\n",
    "#### Implementation (how it works)\n",
    "- Uses getters and setters to access the fields"
   ]
  },
  {
   "cell_type": "code",
   "execution_count": 13,
   "metadata": {},
   "outputs": [],
   "source": [
    "//Getter method for question\n",
    "public static String getQuestion(questionInformation info)\n",
    "{\n",
    "    return info.question;\n",
    "}\n",
    "\n",
    "//Getter method for correct answer\n",
    "public static String getCorrectAnswer(questionInformation info)\n",
    "{\n",
    "    return info.correctAnswer;\n",
    "}\n",
    "\n",
    "\n",
    "//Setter method for updating the question field with the next question that needs to be output\n",
    "public static questionInformation changeQuestion(questionInformation info, String q)\n",
    "{\n",
    "    info.question = q;\n",
    "    return info;\n",
    "}\n",
    "\n",
    "//Setter method for updating the correctAnswer field with the answer to the next question that needs to be output\n",
    "public static questionInformation changeCorrectAnswer(questionInformation info, String a)\n",
    "{\n",
    "    info.correctAnswer = a;\n",
    "    return info;\n",
    "}\n",
    "\n"
   ]
  },
  {
   "cell_type": "markdown",
   "metadata": {},
   "source": [
    "### Method 8: outputtingFinalScores\n",
    "\n",
    "#### What it does\n",
    "- Outputs the final scores for each player\n",
    "\n",
    "#### Implementation (how it works)\n",
    "- Uses a for loop to iterate through each of the positions in the score array and prints the values in each position\n"
   ]
  },
  {
   "cell_type": "code",
   "execution_count": 14,
   "metadata": {},
   "outputs": [],
   "source": [
    "//Outputs the final score for each player\n",
    "public static void outputtingFinalScores(int numPlayers, int [] scores)\n",
    "{\n",
    "    for (int i = 0; i < numPlayers; i++) \n",
    "    {\n",
    "        System.out.println(\"Player \" + (i + 1) + \" final score: \" + scores[i]);\n",
    "    }\n",
    "    return;\n",
    "}"
   ]
  },
  {
   "cell_type": "markdown",
   "metadata": {},
   "source": [
    "### Testing"
   ]
  },
  {
   "cell_type": "code",
   "execution_count": 15,
   "metadata": {},
   "outputs": [
    {
     "name": "stdout",
     "output_type": "stream",
     "text": [
      "Player 1 final score: 0\n",
      "Player 2 final score: 0\n",
      "Player 3 final score: 0\n"
     ]
    }
   ],
   "source": [
    "outputtingFinalScores(3, scores)"
   ]
  },
  {
   "cell_type": "markdown",
   "metadata": {},
   "source": [
    "### Method 9: assigningArrayValueToVariable\n",
    "\n",
    "#### What it does\n",
    "- Holds the arrays with the questions/ answers\n",
    "- Deals with declaring/ initializing the variable q of type questionInformation\n",
    "\n",
    "#### Implementation (how it works)\n",
    "- variable of type questionInformation is created, called q\n",
    "- Stores the first string in each array to the question/ correctAnswer definitions of the variable q\n",
    "- Calls the outputtingDefaultQuestions method"
   ]
  },
  {
   "cell_type": "code",
   "execution_count": 16,
   "metadata": {},
   "outputs": [],
   "source": [
    "//Declares and initializes variable q of type questionInformation\n",
    "//Assigns position 0 of question/ answer arrays to the field definitions of questionInformation\n",
    "public static void assigningArrayValueToVariable(int numPlayers, int [] scores, int [] pointsForNextQuestion, String q, String a) throws IOException\n",
    "{\n",
    "    String [] arrayWithQuestions = \n",
    "    {\n",
    "        \"What's the name of an animal that goes moo? \",\n",
    "        \"What's the name of an animal that goes neigh? \",\n",
    "        \"What's the name of an animal that goes meow? \",\n",
    "        \"What's the name of an animal that goes woof? \",\n",
    "        \"What's the name of an animal that goes heehawheehaw? \"\n",
    "    };\n",
    "\n",
    "    String [] arrayWithAnswers = {\"cow\",\"horse\",\"cat\",\"dog\",\"donkey\"};\n",
    "\n",
    "    q = arrayWithQuestions[0];\n",
    "    a = arrayWithAnswers[0];\n",
    "   \n",
    "    outputtingDefaultQuestions(arrayWithAnswers, arrayWithQuestions, numPlayers, scores, pointsForNextQuestion);\n",
    "    return;\n",
    "}\n"
   ]
  },
  {
   "cell_type": "markdown",
   "metadata": {},
   "source": [
    "### Method 10: askNumberOfQuestions\n",
    "\n",
    "#### What it does\n",
    "- Method for asking the number of questions the user wants to make\n",
    "\n",
    "#### Implementation (how it works)\n",
    "- Uses scanner \n"
   ]
  },
  {
   "cell_type": "code",
   "execution_count": 18,
   "metadata": {},
   "outputs": [],
   "source": [
    "//Method to be called later to ask for the number of questions the user wishes to make, and number of players\n",
    "//Only accepts positive integer inputs\n",
    "public static int askNumberOfQuestionsAndPlayers(String text)\n",
    "{\n",
    "    Scanner scanner = new Scanner(System.in);\n",
    "    System.out.println(text);\n",
    "    int userInput = -1;\n",
    "    while (userInput < 0) \n",
    "    {\n",
    "     \n",
    "        String input = scanner.nextLine();\n",
    "        \n",
    "        if (input.matches(\"\\\\d+\")) {\n",
    "            userInput = Integer.parseInt(input);\n",
    "            if (userInput <= 0) {\n",
    "                System.out.println(\"Invalid input. Please enter a positive integer.\");\n",
    "                userInput = -1;\n",
    "            }\n",
    "        } else {\n",
    "            System.out.println(\"Invalid input. Please enter a positive integer.\");\n",
    "\n",
    "        }\n",
    "        \n",
    "        }\n",
    "    return userInput;\n",
    "}"
   ]
  },
  {
   "cell_type": "markdown",
   "metadata": {},
   "source": [
    "### Testing"
   ]
  },
  {
   "cell_type": "code",
   "execution_count": 19,
   "metadata": {},
   "outputs": [
    {
     "name": "stdout",
     "output_type": "stream",
     "text": [
      "enter positive integer\n"
     ]
    },
    {
     "name": "stdin",
     "output_type": "stream",
     "text": [
      " 2\n"
     ]
    },
    {
     "data": {
      "text/plain": [
       "2"
      ]
     },
     "execution_count": 19,
     "metadata": {},
     "output_type": "execute_result"
    }
   ],
   "source": [
    "askNumberOfQuestionsAndPlayers(\"enter positive integer\");"
   ]
  },
  {
   "cell_type": "markdown",
   "metadata": {},
   "source": [
    "### Method 11: fileCreation\n",
    "\n",
    "#### What it does\n",
    "- File output method\n",
    "- Asks the user for the question and answer(s) they want to make and saves it in a file called questionsAndAnswers.csv\n",
    "\n",
    "#### Implementation (how it works)\n",
    "- Uses file input/ csv method"
   ]
  },
  {
   "cell_type": "code",
   "execution_count": 20,
   "metadata": {},
   "outputs": [],
   "source": [
    "//File output; method which creates the file that stores the created questions and their answers\n",
    "public static void fileCreation(int numPlayers, int [] scores, int [] pointsForNextQuestion, String filename) throws IOException\n",
    "{\n",
    "    filename = \"questionsAndAnswers.csv\";\n",
    "\n",
    "    String q = \"\";\n",
    "    String a = \"\";\n",
    "    \n",
    "    PrintWriter QnA_file = new PrintWriter (new FileWriter(filename));\n",
    "\n",
    "    final int questionsToMake = askNumberOfQuestionsAndPlayers(\"How many questions do you want to make? \");\n",
    "\n",
    "    questionInformation [] creationArray = new questionInformation[questionsToMake];\n",
    "\n",
    "    for(int i=0; i < questionsToMake; i++)\n",
    "    {\n",
    "        creationArray[i] = new questionInformation();\n",
    "        \n",
    "        q = askQuestion(\"Enter question \" + (i+1) + \": \");\n",
    "        creationArray[i] = changeQuestion(creationArray[i], q);\n",
    "        \n",
    "        a = askQuestion(\"Enter answer to question \" + (i+1) + \": \");\n",
    "        creationArray[i] = changeCorrectAnswer(creationArray[i], a);\n",
    "    }\n",
    "\n",
    "    for(int i = 0; i < questionsToMake; i++)\n",
    "    {\n",
    "        QnA_file.println(getQuestion(creationArray[i]) + \",\" + getCorrectAnswer(creationArray[i]));\n",
    "    }\n",
    "\n",
    "    System.out.println(\"questionsAndAnswers.csv written in csv format\");\n",
    "\n",
    "    QnA_file.close();\n",
    "\n",
    "    readingFile(questionsToMake, numPlayers, scores, pointsForNextQuestion, filename, q, a);\n",
    "    return;\n",
    "\n",
    "}\n"
   ]
  },
  {
   "cell_type": "markdown",
   "metadata": {},
   "source": [
    "### Method 12: readingFile\n",
    "\n",
    "#### What it does\n",
    "- File input method\n",
    "- Asks the user for the question and answer(s) they want to make and saves it in a file called questionsAndAnswers.csv\n",
    "\n",
    "#### Implementation (how it works)\n",
    "- Uses file input/ csv method"
   ]
  },
  {
   "cell_type": "code",
   "execution_count": 21,
   "metadata": {},
   "outputs": [],
   "source": [
    "// File input: method which reads file written in last method\n",
    "public static void readingFile(final int questionsToMake, int numPlayers, int[] scores, int[] pointsForNextQuestion, String filename, String q, String a) throws IOException \n",
    "{\n",
    "    BufferedReader inputStream = new BufferedReader(new FileReader(filename));\n",
    "\n",
    "    String Q_A = inputStream.readLine();\n",
    "    String[] Q_A_components = new String[questionsToMake * 2];\n",
    "    int index = 0;\n",
    "\n",
    "    while (Q_A != null) \n",
    "    {\n",
    "        String[] pair = Q_A.split(\",\");\n",
    "        Q_A_components[index++] = pair[0];\n",
    "        Q_A_components[index++] = pair[1]; \n",
    "        Q_A = inputStream.readLine();\n",
    "    }\n",
    "\n",
    "    outputtingExtraQuestions(questionsToMake, numPlayers, scores, pointsForNextQuestion, Q_A_components, q, a);\n",
    "\n",
    "    inputStream.close();\n",
    "    return;\n",
    "}\n",
    "\n"
   ]
  },
  {
   "cell_type": "markdown",
   "metadata": {},
   "source": [
    "### Method 13: outputtingExtraQuestions\n",
    "\n",
    "#### What it does\n",
    "- Responsible for asking the extra questions which were made by the user\n",
    "\n",
    "#### Implementation (how it works)\n",
    "- Works the same as the askingMainQuizQuestions method but obtains the question/answer from a different array called Q_A_components\n"
   ]
  },
  {
   "cell_type": "code",
   "execution_count": 22,
   "metadata": {},
   "outputs": [],
   "source": [
    "//Calls the method which outputs the main questions, then outputs the additional questions\n",
    "public static void outputtingExtraQuestions(int questionsToMake, int numPlayers, int[] scores, int[] pointsForNextQuestion, String[] Q_A_components, String q, String a) throws IOException \n",
    "{\n",
    "    assigningArrayValueToVariable(numPlayers, scores, pointsForNextQuestion, q, a);\n",
    "    System.out.println(\"Additional questions: \");\n",
    "\n",
    "    for (int j = 0; j < questionsToMake * 2; j += 2) \n",
    "    {\n",
    "        String additionalQuestion = Q_A_components[j];\n",
    "        String additionalAnswer = Q_A_components[j + 1];\n",
    "\n",
    "        for (int i = 0; i < numPlayers; i++) {\n",
    "            String playerNumber = \"This additional question is for player \" + (i + 1) + \": \";\n",
    "\n",
    "            Scanner scanner = new Scanner(System.in);\n",
    "            System.out.println(playerNumber + additionalQuestion);\n",
    "            String userAnswer = scanner.nextLine();\n",
    "            \n",
    "            markingMethod(scores, pointsForNextQuestion, additionalAnswer, userAnswer, i);\n",
    "            correctOrIncorrect(userAnswer, additionalAnswer);\n",
    "        }\n",
    "    }\n",
    "    return;\n",
    "}\n"
   ]
  },
  {
   "cell_type": "markdown",
   "metadata": {},
   "source": [
    "### Method 14: quiz\n",
    "\n",
    "#### What it does\n",
    "- Brings the whole program together and calls everything \n",
    "\n",
    "#### Implementation (how it works)\n",
    "- initialises/ declares the numPlayers variable and scores/pointsForNextQuestion array\n",
    "- calls the methods responsible for calling the whole program"
   ]
  },
  {
   "cell_type": "code",
   "execution_count": 24,
   "metadata": {},
   "outputs": [],
   "source": [
    "//ultimate method which accounts for errors with file I/O and calls other methods to execute whole program  \n",
    "public static void quiz()  throws IOException\n",
    "{\n",
    "    final String filename = \"questionsAndAnswers.csv\";\n",
    "    int numPlayers = askNumberOfQuestionsAndPlayers(\"How many players?\");\n",
    "    int[] scores = new int[numPlayers];\n",
    "    int[] pointsForNextQuestion = new int[numPlayers];\n",
    "\n",
    "    fileCreation(numPlayers, scores, pointsForNextQuestion, filename);\n",
    "    outputtingFinalScores(numPlayers, scores);\n",
    "\n",
    "    return;\n",
    "}"
   ]
  },
  {
   "cell_type": "markdown",
   "metadata": {},
   "source": [
    "### Running the program\n",
    "Run the following call to simulate running the complete program."
   ]
  },
  {
   "cell_type": "code",
   "execution_count": null,
   "metadata": {},
   "outputs": [],
   "source": [
    "quiz();"
   ]
  },
  {
   "cell_type": "markdown",
   "metadata": {},
   "source": [
    "## The complete program\n",
    "This version will only compile here. To run it copy it into a file called initials.java on your local computer and compile and run it there."
   ]
  },
  {
   "cell_type": "code",
   "execution_count": 26,
   "metadata": {},
   "outputs": [],
   "source": [
    "// Malaika G Khan\n",
    "// 26 November 2023\n",
    "// VERSION 1\n",
    "// To create a quiz program which takes advantage of file I/O to create questions, is mulitplayer and uses ADTS so that records are only accessed by accessor methods\n",
    "\n",
    "import java.io.*;\n",
    "import java.util.Scanner;\n",
    "\n",
    "\n",
    "//Class with field definitions\n",
    "class questionInformation\n",
    "{\n",
    "    String question;\n",
    "    String correctAnswer;\n",
    "}\n",
    "\n",
    "\n",
    "class quizGame\n",
    "{\n",
    "    public static void main (String [] a) throws IOException\n",
    "    {\n",
    "        quiz();\n",
    "        return;\n",
    "    }\n",
    "\n",
    "\n",
    "    //Outputs the instructions for the game\n",
    "    public static void instructions()\n",
    "    {\n",
    "        System.out.println(\"Welcome, player(s).\");\n",
    "        System.out.println(\"In this quiz, you will answer 5 questions.\");\n",
    "        System.out.println(\"The first question is worth 1 point.\");\n",
    "        System.out.println(\"When you get an answer right, the points for the next question increases.\");\n",
    "        System.out.println(\"However, if you answer the next question incorrectly, the number of possible \");\n",
    "        System.out.println(\"points gained on the next question falls back down to 1 point.\");\n",
    "        return;\n",
    "    }\n",
    "\n",
    "    //general method for asking quiz questions\n",
    "    public static String askQuestion(String input)\n",
    "    {\n",
    "        Scanner scanner = new Scanner(System.in);\n",
    "        System.out.println(input);\n",
    "        return scanner.nextLine();\n",
    "    }\n",
    "\n",
    "\n",
    "\n",
    "    \n",
    "    //Compares currentAnswer to userAnswer and tells the user if their answer is right or not\n",
    "    public static void correctOrIncorrect(String userAnswer, String currentAnswer) \n",
    "    {\n",
    "        if (userAnswer.equalsIgnoreCase(currentAnswer)) {\n",
    "            System.out.println(\"That's correct.\");\n",
    "        } else {\n",
    "            System.out.println(\"That's incorrect.\");\n",
    "        }\n",
    "        return;\n",
    "    }\n",
    "\n",
    "\n",
    "    \n",
    "    //Compares the correct answer (currentAnswer) to userAnswer\n",
    "    //Adjusts the score / points for next question as needed and stores these in arrays\n",
    "    public static void markingMethod(int [] scores, int [] pointsForNextQuestion, String currentAnswer, String userAnswer, int playerIndex)\n",
    "    {\n",
    "\n",
    "        if (!userAnswer.equalsIgnoreCase(currentAnswer)) {\n",
    "            pointsForNextQuestion[playerIndex] = 1;\n",
    "        } else {\n",
    "            scores[playerIndex] += pointsForNextQuestion[playerIndex];\n",
    "            pointsForNextQuestion[playerIndex] += 1;\n",
    "         \n",
    "        }\n",
    "        System.out.println(\"Score = \" + scores[playerIndex]);   \n",
    "        System.out.println(\"Next points available = \" + pointsForNextQuestion[playerIndex]);\n",
    "\n",
    "        return;\n",
    "    \n",
    "    }\n",
    "\n",
    "    //Method for outputting the default questions by creating an instance for each question.\n",
    "    public static void outputtingDefaultQuestions(String [] arrayWithAnswers, String [] arrayWithQuestions, int numPlayers, int [] scores, int [] pointsForNextQuestion)\n",
    "    {\n",
    "\n",
    "        for (int i = 0; i < pointsForNextQuestion.length; i++)\n",
    "        {\n",
    "            pointsForNextQuestion[i] = 1;\n",
    "        }\n",
    "\n",
    "        for (int j = 0; j < arrayWithQuestions.length; j++) \n",
    "        {\n",
    "            String q = arrayWithQuestions[j];\n",
    "            String currentAnswer = arrayWithAnswers[j];\n",
    "\n",
    "            questionInformation Information = createInformation(q, currentAnswer);\n",
    "\n",
    "            Information = changeQuestion(Information, q);\n",
    "            Information = changeCorrectAnswer(Information, currentAnswer);\n",
    "    \n",
    "            for (int i = 0; i < numPlayers; i++) \n",
    "            {\n",
    "                String playerNumber = \"This question is for player \" + (i + 1) + \": \";\n",
    "                String userAnswer = askQuestion(playerNumber + getQuestion(Information));\n",
    "\n",
    "                markingMethod(scores, pointsForNextQuestion, currentAnswer, userAnswer, i);\n",
    "                correctOrIncorrect(userAnswer, currentAnswer);\n",
    "            }\n",
    "        }\n",
    "        return;\n",
    "    }\n",
    "\n",
    "\n",
    "    //Outputs the final score for each player\n",
    "    public static void outputtingFinalScores(int numPlayers, int [] scores)\n",
    "    {\n",
    "        for (int i = 0; i < numPlayers; i++) \n",
    "        {\n",
    "            System.out.println(\"Player \" + (i + 1) + \" final score: \" + scores[i]);\n",
    "        }\n",
    "        return;\n",
    "    }\n",
    "\n",
    "\n",
    "    //Declares and initializes variable q of type questionInformation\n",
    "    //Assigns position 0 of question/ answer arrays to the field definitions of questionInformation\n",
    "    public static void assigningArrayValueToVariable(int numPlayers, int [] scores, int [] pointsForNextQuestion, String q, String a) throws IOException\n",
    "    {\n",
    "        String [] arrayWithQuestions = \n",
    "        {\n",
    "            \"What's the name of an animal that goes moo? \",\n",
    "            \"What's the name of an animal that goes neigh? \",\n",
    "            \"What's the name of an animal that goes meow? \",\n",
    "            \"What's the name of an animal that goes woof? \",\n",
    "            \"What's the name of an animal that goes heehawheehaw? \"\n",
    "        };\n",
    "\n",
    "        String [] arrayWithAnswers = {\"cow\",\"horse\",\"cat\",\"dog\",\"donkey\"};\n",
    "\n",
    "        q = arrayWithQuestions[0];\n",
    "        a = arrayWithAnswers[0];\n",
    "   \n",
    "        outputtingDefaultQuestions(arrayWithAnswers, arrayWithQuestions, numPlayers, scores, pointsForNextQuestion);\n",
    "        return;\n",
    "    }\n",
    "\n",
    "\n",
    "    //Method to be called later to ask for the number of questions the user wishes to make, and number of players\n",
    "    //Only accepts positive integer inputs\n",
    "    public static int askNumberOfQuestionsAndPlayers(String text)\n",
    "    {\n",
    "        Scanner scanner = new Scanner(System.in);\n",
    "        System.out.println(text);\n",
    "        int userInput = -1;\n",
    "        while (userInput < 0) \n",
    "        {\n",
    "     \n",
    "            String input = scanner.nextLine();\n",
    "        \n",
    "            if (input.matches(\"\\\\d+\")) {\n",
    "                userInput = Integer.parseInt(input);\n",
    "                if (userInput <= 0) {\n",
    "                    System.out.println(\"Invalid input. Please enter a positive integer.\");\n",
    "                    userInput = -1;\n",
    "                }\n",
    "            } else {\n",
    "                System.out.println(\"Invalid input. Please enter a positive integer.\");\n",
    "            }\n",
    "        \n",
    "        }\n",
    "        return userInput;\n",
    "    }\n",
    "\n",
    "\n",
    "\n",
    "    //File output; method which creates the file that stores the created questions and their answers\n",
    "    public static void fileCreation(int numPlayers, int [] scores, int [] pointsForNextQuestion, String filename) throws IOException\n",
    "    {\n",
    "        filename = \"questionsAndAnswers.csv\";\n",
    "\n",
    "        String q = \"\";\n",
    "        String a = \"\";\n",
    "    \n",
    "        PrintWriter QnA_file = new PrintWriter (new FileWriter(filename));\n",
    "\n",
    "        final int questionsToMake = askNumberOfQuestionsAndPlayers(\"How many questions do you want to make? \");\n",
    "\n",
    "        questionInformation [] creationArray = new questionInformation[questionsToMake];\n",
    "\n",
    "        for(int i=0; i < questionsToMake; i++)\n",
    "        {\n",
    "            creationArray[i] = new questionInformation();\n",
    "        \n",
    "            q = askQuestion(\"Enter question \" + (i+1) + \": \");\n",
    "            creationArray[i] = changeQuestion(creationArray[i], q);\n",
    "            \n",
    "            a = askQuestion(\"Enter answer to question \" + (i+1) + \": \");\n",
    "            creationArray[i] = changeCorrectAnswer(creationArray[i], a);\n",
    "        }\n",
    "\n",
    "        for(int i = 0; i < questionsToMake; i++)\n",
    "        {\n",
    "            QnA_file.println(getQuestion(creationArray[i]) + \",\" + getCorrectAnswer(creationArray[i]));\n",
    "        }\n",
    "\n",
    "        System.out.println(\"questionsAndAnswers.csv written in csv format\");\n",
    "\n",
    "        QnA_file.close();\n",
    "\n",
    "        readingFile(questionsToMake, numPlayers, scores, pointsForNextQuestion, filename, q, a);\n",
    "        return;\n",
    "\n",
    "    }\n",
    "\n",
    "\n",
    "    // File input: method which reads file written in last method\n",
    "    public static void readingFile(final int questionsToMake, int numPlayers, int[] scores, int[] pointsForNextQuestion, String filename, String q, String a) throws IOException \n",
    "    {\n",
    "        BufferedReader inputStream = new BufferedReader(new FileReader(filename));\n",
    "\n",
    "        String Q_A = inputStream.readLine();\n",
    "        String[] Q_A_components = new String[questionsToMake * 2];\n",
    "        int index = 0;\n",
    "\n",
    "        while (Q_A != null)\n",
    "        {\n",
    "            String[] pair = Q_A.split(\",\");\n",
    "            Q_A_components[index++] = pair[0];\n",
    "            Q_A_components[index++] = pair[1]; \n",
    "            Q_A = inputStream.readLine();\n",
    "        }\n",
    "\n",
    "        outputtingExtraQuestions(questionsToMake, numPlayers, scores, pointsForNextQuestion, Q_A_components, q, a);\n",
    "\n",
    "        inputStream.close();\n",
    "        return;\n",
    "    }\n",
    "\n",
    "\n",
    "    //Calls the method which outputs the main questions, then outputs the additional questions\n",
    "    public static void outputtingExtraQuestions(int questionsToMake, int numPlayers, int[] scores, int[] pointsForNextQuestion, String[] Q_A_components, String q, String a) throws IOException \n",
    "    {\n",
    "        assigningArrayValueToVariable(numPlayers, scores, pointsForNextQuestion, q, a);\n",
    "        System.out.println(\"Additional questions: \");\n",
    "\n",
    "        for (int j = 0; j < questionsToMake * 2; j += 2) \n",
    "        {\n",
    "            String additionalQuestion = Q_A_components[j];\n",
    "            String additionalAnswer = Q_A_components[j + 1];\n",
    "\n",
    "            for (int i = 0; i < numPlayers; i++) \n",
    "            {\n",
    "                String playerNumber = \"This additional question is for player \" + (i + 1) + \": \";\n",
    "\n",
    "                Scanner scanner = new Scanner(System.in);\n",
    "                System.out.println(playerNumber + additionalQuestion);\n",
    "                String userAnswer = scanner.nextLine();\n",
    "            \n",
    "                markingMethod(scores, pointsForNextQuestion, additionalAnswer, userAnswer, i);\n",
    "                correctOrIncorrect(userAnswer, additionalAnswer);\n",
    "            }\n",
    "        }\n",
    "        return;\n",
    "    }\n",
    "\n",
    "    //ultimate method which accounts for errors with file I/O and calls other methods to execute whole program  \n",
    "    public static void quiz()  throws IOException\n",
    "    {\n",
    "        final String filename = \"questionsAndAnswers.csv\";\n",
    "        int numPlayers = askNumberOfQuestionsAndPlayers(\"How many players?\");\n",
    "        int[] scores = new int[numPlayers];\n",
    "        int[] pointsForNextQuestion = new int[numPlayers];\n",
    "\n",
    "        fileCreation(numPlayers, scores, pointsForNextQuestion, filename);\n",
    "        outputtingFinalScores(numPlayers, scores);\n",
    "\n",
    "        return;\n",
    "    }\n",
    "\n",
    "\n",
    "    // ====================================================================\n",
    "    /* An abstract data type for each question and its answer\n",
    "    Type:\n",
    "    * questionInformation\n",
    "\n",
    "    Operations:\n",
    "    * create a datastructure with fields for the question and answer\n",
    "    * Get the question (a String)\n",
    "    * Get the correct answer (an int)\n",
    "    * Update the question\n",
    "    * Update the answer\n",
    "\n",
    "    */\n",
    "\n",
    "    public static questionInformation createInformation(String q, String a)\n",
    "    {\n",
    "        questionInformation Information = new questionInformation();\n",
    "\n",
    "        Information.question = q;\n",
    "        Information.correctAnswer = a;\n",
    "\n",
    "        return Information;\n",
    "    }\n",
    "\n",
    "\n",
    "    //Getter method for question\n",
    "    public static String getQuestion(questionInformation info)\n",
    "    {\n",
    "        return info.question;\n",
    "    }\n",
    "\n",
    "    //Getter method for correct answer\n",
    "    public static String getCorrectAnswer(questionInformation info)\n",
    "    {\n",
    "        return info.correctAnswer;\n",
    "    }\n",
    "\n",
    "\n",
    "    //Setter method for updating the question field with the next question that needs to be output\n",
    "    public static questionInformation changeQuestion(questionInformation info, String q)\n",
    "    {\n",
    "        info.question = q;\n",
    "        return info;\n",
    "    }\n",
    "\n",
    "    //Setter method for updating the correctAnswer field with the answer to the next question that needs to be output\n",
    "    public static questionInformation changeCorrectAnswer(questionInformation info, String a)\n",
    "    {\n",
    "        info.correctAnswer = a;\n",
    "        return info;\n",
    "    }\n",
    "\n",
    "    \n",
    "}\n"
   ]
  },
  {
   "cell_type": "code",
   "execution_count": null,
   "metadata": {},
   "outputs": [],
   "source": [
    "quizGame.main(null);"
   ]
  },
  {
   "cell_type": "markdown",
   "metadata": {},
   "source": [
    "**END OF LITERATE DOCUMENT**"
   ]
  }
 ],
 "metadata": {
  "kernelspec": {
   "display_name": "Java",
   "language": "java",
   "name": "java"
  },
  "language_info": {
   "codemirror_mode": "java",
   "file_extension": ".jshell",
   "mimetype": "text/x-java-source",
   "name": "Java",
   "pygments_lexer": "java",
   "version": "11.0.8+10-LTS"
  }
 },
 "nbformat": 4,
 "nbformat_minor": 4
}
