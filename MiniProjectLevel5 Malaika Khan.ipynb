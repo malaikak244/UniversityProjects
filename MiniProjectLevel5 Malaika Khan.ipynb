{
 "cells": [
  {
   "cell_type": "markdown",
   "metadata": {
    "tags": []
   },
   "source": [
    "# Miniproject\n",
    "# Level  5\n",
    "## Malaika K\n",
    "\n",
    "## 23 October 2023\n",
    "## Version 1\n",
    "--any changes to earlier changes go here--\n"
   ]
  },
  {
   "cell_type": "markdown",
   "metadata": {},
   "source": [
    "## Summary of the Question \n",
    "\n",
    "- Short answer quiz\n",
    "- Level 6 criteria:\n",
    "- User is told if their answer is right or not\n",
    "- If wrong, points for the next question are set back to 1\n",
    "- If right, points for the next question are increased by 1\n",
    "- Score is added up"
   ]
  },
  {
   "cell_type": "markdown",
   "metadata": {},
   "source": [
    "## Justification that the program passes this level\n",
    "Program beings with a method instructions() which simply tells the user how the quiz works. I have then written a general method for asking each of the questions called askQuestion(). This is used by the quiz() method to output all of the questions and keep track of user input and correct answers. Within the quiz() method, I have included the code which needs to be executed in order to adjust the variable \"awardedPoints\". Since the quiz() method \"knows\" what the correct answers are, I used if and else statements which reset the awardedPoints variable to 1 if the user input does not equal the correct answer. However if the user input does match the correct answer (regardless of upper/lowercase) then awardedPoints is increased by 1. I have also output totalScore and awardedPoints with each question for my own benefit so while programming I knew the quiz() method was doing its calculations correctly. The final method is the markingMethod() which outputs if the user got the question right or not. It also adds awardedPoints to totalScore if the answer is right.\n",
    "Additionally, the askQuestion() method is called in quiz() and assigned to the variable userAnswer. This takes the user input. userAnswer is then fed through markingMethod() as a parameter meaning that the markingMethod() can check if the answer is right or not by comparing it to the variable correctAnswer (which has been assigned a value when called using totalScore in quiz() ).\n",
    "\n",
    "- I wrote this program myself\n",
    "- I have used variables, assignments and expressions\n",
    "- I have used two methods which return results\n",
    "- I have indented my code\n",
    "- All variables are defined inside methods i.e are local\n",
    "- I have included comments\n"
   ]
  },
  {
   "cell_type": "markdown",
   "metadata": {},
   "source": [
    "## The literate program development\n"
   ]
  },
  {
   "cell_type": "markdown",
   "metadata": {},
   "source": [
    "### Method 1: Instructions\n",
    "\n",
    "#### What it does\n",
    "- Introduces the player to the rules of the game.\n",
    "\n",
    "#### Implementation (how it works)\n",
    "- Method simply prints several statements involving the rules."
   ]
  },
  {
   "cell_type": "code",
   "execution_count": 1,
   "metadata": {},
   "outputs": [],
   "source": [
    "public static void instructions()\n",
    "    {\n",
    "     System.out.println(\"Welcome, player.\");\n",
    "     System.out.println(\"In this general knowledge quiz, you will answer 5 questions.\");\n",
    "     System.out.println(\"The first question is worth 1 point.\");\n",
    "     System.out.println(\"When you get an answer right, the points for the next question increases.\");\n",
    "     System.out.println(\"However, if you answer the next question incorrectly, the number of possible \");\n",
    "     System.out.println(\"points gained on the next question falls back down to 1 point.\");\n",
    "    }"
   ]
  },
  {
   "cell_type": "markdown",
   "metadata": {},
   "source": [
    "#### Testing"
   ]
  },
  {
   "cell_type": "code",
   "execution_count": 2,
   "metadata": {},
   "outputs": [
    {
     "name": "stdout",
     "output_type": "stream",
     "text": [
      "Welcome, player.\n",
      "In this general knowledge quiz, you will answer 5 questions.\n",
      "The first question is worth 1 point.\n",
      "When you get an answer right, the points for the next question increases.\n",
      "However, if you answer the next question incorrectly, the number of possible \n",
      "points gained on the next question falls back down to 1 point.\n"
     ]
    }
   ],
   "source": [
    "instructions();"
   ]
  },
  {
   "cell_type": "markdown",
   "metadata": {},
   "source": [
    "### Method 2: main method\n",
    "\n",
    "\n",
    "#### What it does\n",
    "- asks the player a question\n",
    "- increases possible points by 1 if answered correctly\n",
    "\n",
    "#### Implementation (how it works)\n",
    "- Questions asked using arguments\n",
    "- If userAnswer (input) does not equal correctAnswer, the awardedPoints is reset to one\n",
    "- Otherwise if the user input is correct, another point is added to awardedPoints"
   ]
  },
  {
   "cell_type": "code",
   "execution_count": 3,
   "metadata": {},
   "outputs": [],
   "source": [
    "public static void correctOrIncorrect(String userAnswer, String correctAnswer) {\n",
    "        if (userAnswer.equalsIgnoreCase(correctAnswer)) {\n",
    "            System.out.println(\"That's correct.\");\n",
    "    \n",
    "        \n",
    "        } else {\n",
    "            System.out.println(\"That's incorrect.\");\n",
    "        }\n",
    "        return;\n",
    "    }"
   ]
  },
  {
   "cell_type": "code",
   "execution_count": 4,
   "metadata": {},
   "outputs": [],
   "source": [
    "public static String askQuestion(String question) {\n",
    "        Scanner scanner = new Scanner(System.in);\n",
    "        System.out.println(question);\n",
    "        return scanner.nextLine();\n",
    "}"
   ]
  },
  {
   "cell_type": "code",
   "execution_count": 5,
   "metadata": {},
   "outputs": [],
   "source": [
    "//\n",
    "public static void markingMethod(int [] scores, int [] pointsForNextQuestion, String correctAnswer, String userAnswer, int playerIndex)\n",
    "    {\n",
    "\n",
    "    if (!userAnswer.equalsIgnoreCase(correctAnswer)) {\n",
    "        pointsForNextQuestion[playerIndex] = 1;\n",
    "    } else {\n",
    "        scores[playerIndex] += pointsForNextQuestion[playerIndex];\n",
    "        pointsForNextQuestion[playerIndex] += 1;\n",
    "         \n",
    "    }\n",
    "    System.out.println(\"Score = \" + scores[playerIndex]);   \n",
    "    System.out.println(\"loop = \" + playerIndex);\n",
    "    System.out.println(\"Next points available = \" + pointsForNextQuestion[playerIndex]);\n",
    "\n",
    "    return;\n",
    "    \n",
    "    }"
   ]
  },
  {
   "cell_type": "code",
   "execution_count": 6,
   "metadata": {},
   "outputs": [],
   "source": [
    "public static void playerInformation(int numPlayers, int [] scores, int [] pointsForNextQuestion,  String correctAnswer, String question)\n",
    "    {\n",
    "       for (int i = 0; i < numPlayers; i++) {\n",
    "        String userAnswer = askQuestion(\"This question is for player \" + (i+1) + \": \" + question);\n",
    "        markingMethod(scores, pointsForNextQuestion, correctAnswer, userAnswer, i);\n",
    "        correctOrIncorrect(userAnswer, correctAnswer);\n",
    "\n",
    "       }\n",
    "    return;\n",
    "    \n",
    "    }"
   ]
  },
  {
   "cell_type": "markdown",
   "metadata": {},
   "source": [
    "### Method 3: general method for asking quiz questions\n",
    "\n",
    "#### What it does\n",
    "- A general method for asking the quiz questions and taking an input from the user\n",
    "\n",
    "#### Implementation (how it works)\n",
    "-  Variable \"question\", which is passed through the method as a parameter, is a general way of representing the questions asked in the quiz (the specific questions are assigned when askQuestion() method is called in quiz() )\n"
   ]
  },
  {
   "cell_type": "markdown",
   "metadata": {},
   "source": [
    "#### Testing"
   ]
  },
  {
   "cell_type": "code",
   "execution_count": 7,
   "metadata": {},
   "outputs": [
    {
     "name": "stdout",
     "output_type": "stream",
     "text": [
      "What's the name of an animal that goes moo: \n"
     ]
    },
    {
     "name": "stdin",
     "output_type": "stream",
     "text": [
      " cow\n"
     ]
    }
   ],
   "source": [
    "String userAnswer = askQuestion(\"What's the name of an animal that goes moo: \");"
   ]
  },
  {
   "cell_type": "markdown",
   "metadata": {},
   "source": [
    "### Method 4: marking method\n",
    "\n",
    "#### What it does\n",
    "- Outputs \"That's correct\" if answer is correct and \"That's incorrect\" if incorrect\n",
    "- Adds awardedPoints to totalScore if answer is correct.\n",
    "\n",
    "#### Implementation (how it works)\n",
    "- Compares the user input (userAnswer) to correctAnswer\n",
    "- If they are the same, awardedPoints is added to totalScore and the user is told that they are correct\n",
    "- Otherwise, they are told it is incorrect"
   ]
  },
  {
   "cell_type": "code",
   "execution_count": 8,
   "metadata": {},
   "outputs": [],
   "source": [
    "//\n",
    "public static void arrayCreationAndCallingMethods()\n",
    "    {\n",
    "    final int numPlayers;\n",
    "    final String players;\n",
    "    \n",
    "    Scanner scanner = new Scanner(System.in);\n",
    "    System.out.println(\"How many players? \");\n",
    "    players = scanner.nextLine();\n",
    "    numPlayers = Integer.parseInt(players);  \n",
    "    \n",
    "\n",
    "    int [] scores = new int[numPlayers];\n",
    "    int [] pointsForNextQuestion = new int[numPlayers];\n",
    "\n",
    "    for (int i = 0; i < pointsForNextQuestion.length; i++)\n",
    "         {\n",
    "             pointsForNextQuestion[i] = 1;\n",
    "         }\n",
    "    \n",
    "\n",
    "    for (int i = 0; i < numPlayers; i++) {\n",
    "        playerInformation(numPlayers, scores, pointsForNextQuestion, \"cow\", \"What's the name of an animal that goes moo? \");\n",
    "        playerInformation(numPlayers, scores, pointsForNextQuestion, \"horse\", \"What's the name of an animal that goes neigh? \");\n",
    "        playerInformation(numPlayers, scores, pointsForNextQuestion, \"cat\", \"What's the name of an animal that goes meow? \");\n",
    "    }\n",
    "    return;\n",
    "    }"
   ]
  },
  {
   "cell_type": "markdown",
   "metadata": {},
   "source": [
    "#### Testing"
   ]
  },
  {
   "cell_type": "code",
   "execution_count": 11,
   "metadata": {},
   "outputs": [
    {
     "name": "stdout",
     "output_type": "stream",
     "text": [
      "How many players? \n"
     ]
    },
    {
     "name": "stdin",
     "output_type": "stream",
     "text": [
      " 4\n"
     ]
    },
    {
     "name": "stdout",
     "output_type": "stream",
     "text": [
      "This question is for player 1: What's the name of an animal that goes moo? \n"
     ]
    },
    {
     "name": "stdin",
     "output_type": "stream",
     "text": [
      " cow\n"
     ]
    },
    {
     "name": "stdout",
     "output_type": "stream",
     "text": [
      "Score = 1\n",
      "loop = 0\n",
      "Next points available = 2\n",
      "That's correct.\n",
      "This question is for player 2: What's the name of an animal that goes moo? \n"
     ]
    },
    {
     "name": "stdin",
     "output_type": "stream",
     "text": [
      " cow\n"
     ]
    },
    {
     "name": "stdout",
     "output_type": "stream",
     "text": [
      "Score = 1\n",
      "loop = 1\n",
      "Next points available = 2\n",
      "That's correct.\n",
      "This question is for player 3: What's the name of an animal that goes moo? \n"
     ]
    },
    {
     "name": "stdin",
     "output_type": "stream",
     "text": [
      " d\n"
     ]
    },
    {
     "name": "stdout",
     "output_type": "stream",
     "text": [
      "Score = 0\n",
      "loop = 2\n",
      "Next points available = 1\n",
      "That's incorrect.\n",
      "This question is for player 4: What's the name of an animal that goes moo? \n"
     ]
    },
    {
     "name": "stdin",
     "output_type": "stream",
     "text": [
      " cow\n"
     ]
    },
    {
     "name": "stdout",
     "output_type": "stream",
     "text": [
      "Score = 1\n",
      "loop = 3\n",
      "Next points available = 2\n",
      "That's correct.\n",
      "This question is for player 1: What's the name of an animal that goes neigh? \n"
     ]
    },
    {
     "name": "stdin",
     "output_type": "stream",
     "text": [
      " f\n"
     ]
    },
    {
     "name": "stdout",
     "output_type": "stream",
     "text": [
      "Score = 1\n",
      "loop = 0\n",
      "Next points available = 1\n",
      "That's incorrect.\n",
      "This question is for player 2: What's the name of an animal that goes neigh? \n"
     ]
    },
    {
     "name": "stdin",
     "output_type": "stream",
     "text": [
      " horse\n"
     ]
    },
    {
     "name": "stdout",
     "output_type": "stream",
     "text": [
      "Score = 3\n",
      "loop = 1\n",
      "Next points available = 3\n",
      "That's correct.\n",
      "This question is for player 3: What's the name of an animal that goes neigh? \n"
     ]
    },
    {
     "name": "stdin",
     "output_type": "stream",
     "text": [
      " horse\n"
     ]
    },
    {
     "name": "stdout",
     "output_type": "stream",
     "text": [
      "Score = 1\n",
      "loop = 2\n",
      "Next points available = 2\n",
      "That's correct.\n",
      "This question is for player 4: What's the name of an animal that goes neigh? \n"
     ]
    },
    {
     "name": "stdin",
     "output_type": "stream",
     "text": [
      " horse\n"
     ]
    },
    {
     "name": "stdout",
     "output_type": "stream",
     "text": [
      "Score = 3\n",
      "loop = 3\n",
      "Next points available = 3\n",
      "That's correct.\n",
      "This question is for player 1: What's the name of an animal that goes meow? \n"
     ]
    },
    {
     "ename": "EvaluationInterruptedException",
     "evalue": "Evaluator was interrupted while executing: 'questionAndMarking();'",
     "output_type": "error",
     "traceback": [
      "\u001b[1m\u001b[30m|   \u001b[1m\u001b[30mquestionAndMarking();\u001b[0m",
      "\u001b[1m\u001b[31mEvaluation interrupted.\u001b[0m"
     ]
    }
   ],
   "source": [
    "arrayCreationAndCallingMethods();"
   ]
  },
  {
   "cell_type": "markdown",
   "metadata": {},
   "source": [
    "### Running the program\n",
    "Run the following call to simulate running the complete program."
   ]
  },
  {
   "cell_type": "code",
   "execution_count": null,
   "metadata": {},
   "outputs": [],
   "source": []
  },
  {
   "cell_type": "markdown",
   "metadata": {},
   "source": [
    "## The complete program\n",
    "This version will only compile here. To run it copy it into a file called initials.java on your local computer and compile and run it there."
   ]
  },
  {
   "cell_type": "code",
   "execution_count": 9,
   "metadata": {},
   "outputs": [],
   "source": [
    "// MALAIKA G KHAN\n",
    "// 8 OCTOBER 2023\n",
    "// VERSION 1\n",
    "// BRIEF OVERVIEW OF PURPOSE\n",
    "\n",
    "import java.util.Scanner; // Needed to make Scanner available\n",
    "\n",
    "class quizProgram \n",
    "{\n",
    "    public static void main (String [] a)\n",
    "    {   \n",
    "        instructions();\n",
    "        quiz();\n",
    "        return;\n",
    "    } // END main\n",
    "\n",
    "    public static void instructions() //Displays instructions to the user\n",
    "    {\n",
    "     System.out.println(\"Welcome, player.\");\n",
    "     System.out.println(\"In this general knowledge quiz, you will answer 5 questions.\");\n",
    "     System.out.println(\"The first question is worth 1 point.\");\n",
    "     System.out.println(\"When you get an answer right, the points for the next question increases.\");\n",
    "     System.out.println(\"However, if you answer the next question incorrectly, the number of possible \");\n",
    "     System.out.println(\"points gained on the next question falls back down to 1 point.\");\n",
    "    }\n",
    "\n",
    "    public static void quiz() //Asks the questions, compares user input to the correct answers and adjusts awardedPoints as needed\n",
    "    {\n",
    "        int awardedPoints = 1;\n",
    "        int totalScore = 0;\n",
    "\n",
    "        String userAnswer = askQuestion(\"What's the name of an animal that goes moo: \");\n",
    "        totalScore = markingMethod(userAnswer, \"cow\", awardedPoints, totalScore);\n",
    "        System.out.println(\"Score = \" + totalScore);\n",
    "        \n",
    "        if (!userAnswer.equalsIgnoreCase(\"cow\")) {\n",
    "            awardedPoints = 1;\n",
    "        } else {\n",
    "        awardedPoints ++;\n",
    "        }\n",
    "        \n",
    "        System.out.println(\"Next points available = \" + awardedPoints);\n",
    "\n",
    "        \n",
    "        \n",
    "        userAnswer = askQuestion(\"What's the name of an animal that goes neigh: \");\n",
    "        totalScore = markingMethod(userAnswer, \"horse\", awardedPoints, totalScore);\n",
    "        System.out.println(\"Score = \" + totalScore);\n",
    "    \n",
    "        if (!userAnswer.equalsIgnoreCase(\"horse\")) {\n",
    "            awardedPoints = 1;\n",
    "        } else {\n",
    "        awardedPoints ++;\n",
    "        }\n",
    "        \n",
    "        System.out.println(\"Next points available = \" + awardedPoints);\n",
    "\n",
    "        \n",
    "        \n",
    "        userAnswer = askQuestion(\"What's the name of an animal that goes meow: \");\n",
    "        totalScore = markingMethod(userAnswer, \"cat\", awardedPoints, totalScore);\n",
    "        System.out.println(\"Score = \" + totalScore);\n",
    "        \n",
    "        if (!userAnswer.equalsIgnoreCase(\"cat\")) {\n",
    "            awardedPoints = 1;\n",
    "        } else {\n",
    "        awardedPoints ++;\n",
    "        }\n",
    "        \n",
    "        System.out.println(\"Next points available = \" + awardedPoints);\n",
    "\n",
    "        \n",
    "\n",
    "        userAnswer = askQuestion(\"What's the name of an animal that goes woof: \");\n",
    "        totalScore = markingMethod(userAnswer, \"dog\", awardedPoints, totalScore);\n",
    "        System.out.println(\"Score = \" + totalScore);\n",
    "\n",
    "        if (!userAnswer.equalsIgnoreCase(\"dog\")) {\n",
    "            awardedPoints = 1;\n",
    "        } else {\n",
    "        awardedPoints ++;\n",
    "        }\n",
    "        \n",
    "        System.out.println(\"Next points available = \" + awardedPoints);\n",
    "\n",
    "        \n",
    "\n",
    "        userAnswer = askQuestion(\"What's the name of an animal that goes heehawwheehaww: \");\n",
    "        totalScore = markingMethod(userAnswer, \"donkey\", awardedPoints, totalScore);\n",
    "        System.out.println(\"Score = \" + totalScore);\n",
    "        \n",
    "        if (!userAnswer.equalsIgnoreCase(\"cow\")) {\n",
    "            awardedPoints = 1;\n",
    "        } else {\n",
    "        awardedPoints ++;\n",
    "        }\n",
    "        \n",
    "    } \n",
    "\n",
    "    \n",
    "    public static String askQuestion(String question)  //General method for asking quiz questions\n",
    "    {\n",
    "        Scanner scanner = new Scanner(System.in);\n",
    "        System.out.println(question);\n",
    "        return scanner.nextLine();\n",
    "    }\n",
    "\n",
    "    public static int markingMethod(String userAnswer, String correctAnswer, int awardedPoints, int totalScore) { //Ajusts the score\n",
    "        if (userAnswer.equalsIgnoreCase(correctAnswer)) {\n",
    "            System.out.println(\"That's correct.\");\n",
    "            totalScore += awardedPoints;\n",
    "        \n",
    "        } else {\n",
    "            System.out.println(\"That's incorrect.\");\n",
    "        }\n",
    "        return totalScore;\n",
    "    }\n",
    " \n",
    "} // END class quizProgram\n"
   ]
  },
  {
   "cell_type": "markdown",
   "metadata": {},
   "source": [
    "**END OF LITERATE DOCUMENT**"
   ]
  }
 ],
 "metadata": {
  "kernelspec": {
   "display_name": "Java",
   "language": "java",
   "name": "java"
  },
  "language_info": {
   "codemirror_mode": "java",
   "file_extension": ".jshell",
   "mimetype": "text/x-java-source",
   "name": "Java",
   "pygments_lexer": "java",
   "version": "11.0.8+10-LTS"
  }
 },
 "nbformat": 4,
 "nbformat_minor": 4
}
